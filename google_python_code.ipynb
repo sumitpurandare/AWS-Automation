{
  "nbformat": 4,
  "nbformat_minor": 0,
  "metadata": {
    "colab": {
      "name": "google_python_code.ipynb",
      "provenance": [],
      "include_colab_link": true
    },
    "kernelspec": {
      "name": "python3",
      "display_name": "Python 3"
    }
  },
  "cells": [
    {
      "cell_type": "markdown",
      "metadata": {
        "id": "view-in-github",
        "colab_type": "text"
      },
      "source": [
        "<a href=\"https://colab.research.google.com/github/sumitpurandare/AWS-Automation/blob/master/google_python_code.ipynb\" target=\"_parent\"><img src=\"https://colab.research.google.com/assets/colab-badge.svg\" alt=\"Open In Colab\"/></a>"
      ]
    },
    {
      "cell_type": "code",
      "metadata": {
        "id": "XX2NVduSyAs0",
        "colab": {
          "base_uri": "https://localhost:8080/"
        },
        "outputId": "bc329a71-affd-4e36-9956-2b45ff0200c5"
      },
      "source": [
        "#List\r\n",
        "li = ['Alice','Bob','Catherine','Daniel']\r\n",
        "print(li[3])"
      ],
      "execution_count": 3,
      "outputs": [
        {
          "output_type": "stream",
          "text": [
            "Daniel\n"
          ],
          "name": "stdout"
        }
      ]
    },
    {
      "cell_type": "code",
      "metadata": {
        "colab": {
          "base_uri": "https://localhost:8080/"
        },
        "id": "TJN_nk3KqTOo",
        "outputId": "c83c4354-d91a-4927-ed5f-55abd8de9201"
      },
      "source": [
        "#String\r\n",
        "x = \"hello\"\r\n",
        "print(x[4])\r\n"
      ],
      "execution_count": 6,
      "outputs": [
        {
          "output_type": "stream",
          "text": [
            "o\n"
          ],
          "name": "stdout"
        }
      ]
    },
    {
      "cell_type": "code",
      "metadata": {
        "colab": {
          "base_uri": "https://localhost:8080/"
        },
        "id": "sgL0joLMqZYG",
        "outputId": "e924bfaf-9182-492d-b209-776769c564cf"
      },
      "source": [
        "#tuple\r\n",
        "tup = (123,234,456,789)\r\n",
        "print(tup[3])"
      ],
      "execution_count": 7,
      "outputs": [
        {
          "output_type": "stream",
          "text": [
            "789\n"
          ],
          "name": "stdout"
        }
      ]
    },
    {
      "cell_type": "code",
      "metadata": {
        "colab": {
          "base_uri": "https://localhost:8080/"
        },
        "id": "u5GB_bPqq5uI",
        "outputId": "d21734af-1bfe-49ae-84a0-dd633db7df8c"
      },
      "source": [
        "#sets\r\n",
        "sets = {'a1','b2','c3','4d'}\r\n",
        "print(sets)"
      ],
      "execution_count": 10,
      "outputs": [
        {
          "output_type": "stream",
          "text": [
            "{'4d', 'b2', 'a1', 'c3'}\n"
          ],
          "name": "stdout"
        }
      ]
    },
    {
      "cell_type": "code",
      "metadata": {
        "colab": {
          "base_uri": "https://localhost:8080/"
        },
        "id": "pynxZQzjrDFl",
        "outputId": "14c2f317-e1e1-4d71-e55c-acfb629c19ec"
      },
      "source": [
        "#dict \r\n",
        "dict = {\"name1\":\"Alice\",\"age1\": 27,\"name2\":\"Bob\",\"age2\": 22,\"name3\":\"Caherine\",\"age3\": 32,\"name4\":\"Daniel\",\"age4\": 31}\r\n",
        "print(dict['age3'])"
      ],
      "execution_count": 17,
      "outputs": [
        {
          "output_type": "stream",
          "text": [
            "32\n"
          ],
          "name": "stdout"
        }
      ]
    },
    {
      "cell_type": "code",
      "metadata": {
        "colab": {
          "base_uri": "https://localhost:8080/"
        },
        "id": "6l0zVQYErjYh",
        "outputId": "47d249c8-4eac-48b5-dfde-29879454151c"
      },
      "source": [
        "lis_1 = [1,2,3,4,5]\r\n",
        "lis_1.append(100)\r\n",
        "print(lis_1)"
      ],
      "execution_count": 19,
      "outputs": [
        {
          "output_type": "stream",
          "text": [
            "[1, 2, 3, 4, 5, 100]\n"
          ],
          "name": "stdout"
        }
      ]
    },
    {
      "cell_type": "code",
      "metadata": {
        "colab": {
          "base_uri": "https://localhost:8080/"
        },
        "id": "MpesBI1ruAOy",
        "outputId": "183d481e-df48-4039-8e97-76b3220ac8a2"
      },
      "source": [
        "lis_2 = [1,2,3,4,5]\r\n",
        "#lis_1.insert(1,100)\r\n",
        "del(lis_1[2])\r\n",
        "print(lis_1)\r\n",
        "print(lis_2)"
      ],
      "execution_count": 28,
      "outputs": [
        {
          "output_type": "stream",
          "text": [
            "[1, 100, 4, 5, 100]\n",
            "[1, 2, 3, 4, 5]\n"
          ],
          "name": "stdout"
        }
      ]
    },
    {
      "cell_type": "code",
      "metadata": {
        "colab": {
          "base_uri": "https://localhost:8080/"
        },
        "id": "lAINptkuuImd",
        "outputId": "267d0648-2ba1-49f4-e2ac-2b4745304e2d"
      },
      "source": [
        "lis_3 = [1,2,3,4,1000]\r\n",
        "print(lis_3.pop())\r\n",
        "print(lis_3)"
      ],
      "execution_count": 33,
      "outputs": [
        {
          "output_type": "stream",
          "text": [
            "1000\n",
            "[1, 2, 3, 4]\n"
          ],
          "name": "stdout"
        }
      ]
    },
    {
      "cell_type": "code",
      "metadata": {
        "colab": {
          "base_uri": "https://localhost:8080/"
        },
        "id": "OZDbcK4BxDSY",
        "outputId": "8ca26743-6a02-493d-cca0-5f7f2c0fdc16"
      },
      "source": [
        "x = [10,20,30,40]\r\n",
        "x.remove(20)\r\n",
        "x.reverse()\r\n",
        "x.pop()\r\n",
        "print(x)"
      ],
      "execution_count": 38,
      "outputs": [
        {
          "output_type": "stream",
          "text": [
            "[40, 30]\n"
          ],
          "name": "stdout"
        }
      ]
    },
    {
      "cell_type": "code",
      "metadata": {
        "id": "DSyyxjbixsL1"
      },
      "source": [
        ""
      ],
      "execution_count": null,
      "outputs": []
    }
  ]
}