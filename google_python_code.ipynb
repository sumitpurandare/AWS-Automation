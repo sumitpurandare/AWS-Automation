{
  "nbformat": 4,
  "nbformat_minor": 0,
  "metadata": {
    "colab": {
      "name": "google_python_code.ipynb",
      "provenance": [],
      "include_colab_link": true
    },
    "kernelspec": {
      "name": "python3",
      "display_name": "Python 3"
    }
  },
  "cells": [
    {
      "cell_type": "markdown",
      "metadata": {
        "id": "view-in-github",
        "colab_type": "text"
      },
      "source": [
        "<a href=\"https://colab.research.google.com/github/sumitpurandare/AWS-Automation/blob/master/google_python_code.ipynb\" target=\"_parent\"><img src=\"https://colab.research.google.com/assets/colab-badge.svg\" alt=\"Open In Colab\"/></a>"
      ]
    },
    {
      "cell_type": "code",
      "metadata": {
        "id": "XX2NVduSyAs0",
        "colab": {
          "base_uri": "https://localhost:8080/"
        },
        "outputId": "bc329a71-affd-4e36-9956-2b45ff0200c5"
      },
      "source": [
        "#List\r\n",
        "li = ['Alice','Bob','Catherine','Daniel']\r\n",
        "print(li[3])"
      ],
      "execution_count": null,
      "outputs": [
        {
          "output_type": "stream",
          "text": [
            "Daniel\n"
          ],
          "name": "stdout"
        }
      ]
    },
    {
      "cell_type": "code",
      "metadata": {
        "colab": {
          "base_uri": "https://localhost:8080/"
        },
        "id": "TJN_nk3KqTOo",
        "outputId": "c83c4354-d91a-4927-ed5f-55abd8de9201"
      },
      "source": [
        "#String\r\n",
        "x = \"hello\"\r\n",
        "print(x[4])\r\n"
      ],
      "execution_count": null,
      "outputs": [
        {
          "output_type": "stream",
          "text": [
            "o\n"
          ],
          "name": "stdout"
        }
      ]
    },
    {
      "cell_type": "code",
      "metadata": {
        "colab": {
          "base_uri": "https://localhost:8080/"
        },
        "id": "sgL0joLMqZYG",
        "outputId": "e924bfaf-9182-492d-b209-776769c564cf"
      },
      "source": [
        "#tuple\r\n",
        "tup = (123,234,456,789)\r\n",
        "print(tup[3])"
      ],
      "execution_count": null,
      "outputs": [
        {
          "output_type": "stream",
          "text": [
            "789\n"
          ],
          "name": "stdout"
        }
      ]
    },
    {
      "cell_type": "code",
      "metadata": {
        "colab": {
          "base_uri": "https://localhost:8080/"
        },
        "id": "u5GB_bPqq5uI",
        "outputId": "d21734af-1bfe-49ae-84a0-dd633db7df8c"
      },
      "source": [
        "#sets\r\n",
        "sets = {'a1','b2','c3','4d'}\r\n",
        "print(sets)"
      ],
      "execution_count": null,
      "outputs": [
        {
          "output_type": "stream",
          "text": [
            "{'4d', 'b2', 'a1', 'c3'}\n"
          ],
          "name": "stdout"
        }
      ]
    },
    {
      "cell_type": "code",
      "metadata": {
        "colab": {
          "base_uri": "https://localhost:8080/"
        },
        "id": "pynxZQzjrDFl",
        "outputId": "14c2f317-e1e1-4d71-e55c-acfb629c19ec"
      },
      "source": [
        "#dict \r\n",
        "dict = {\"name1\":\"Alice\",\"age1\": 27,\"name2\":\"Bob\",\"age2\": 22,\"name3\":\"Caherine\",\"age3\": 32,\"name4\":\"Daniel\",\"age4\": 31}\r\n",
        "print(dict['age3'])"
      ],
      "execution_count": null,
      "outputs": [
        {
          "output_type": "stream",
          "text": [
            "32\n"
          ],
          "name": "stdout"
        }
      ]
    },
    {
      "cell_type": "code",
      "metadata": {
        "colab": {
          "base_uri": "https://localhost:8080/"
        },
        "id": "6l0zVQYErjYh",
        "outputId": "47d249c8-4eac-48b5-dfde-29879454151c"
      },
      "source": [
        "lis_1 = [1,2,3,4,5]\r\n",
        "lis_1.append(100)\r\n",
        "print(lis_1)"
      ],
      "execution_count": null,
      "outputs": [
        {
          "output_type": "stream",
          "text": [
            "[1, 2, 3, 4, 5, 100]\n"
          ],
          "name": "stdout"
        }
      ]
    },
    {
      "cell_type": "code",
      "metadata": {
        "colab": {
          "base_uri": "https://localhost:8080/"
        },
        "id": "MpesBI1ruAOy",
        "outputId": "183d481e-df48-4039-8e97-76b3220ac8a2"
      },
      "source": [
        "lis_2 = [1,2,3,4,5]\r\n",
        "#lis_1.insert(1,100)\r\n",
        "del(lis_1[2])\r\n",
        "print(lis_1)\r\n",
        "print(lis_2)"
      ],
      "execution_count": null,
      "outputs": [
        {
          "output_type": "stream",
          "text": [
            "[1, 100, 4, 5, 100]\n",
            "[1, 2, 3, 4, 5]\n"
          ],
          "name": "stdout"
        }
      ]
    },
    {
      "cell_type": "code",
      "metadata": {
        "colab": {
          "base_uri": "https://localhost:8080/"
        },
        "id": "lAINptkuuImd",
        "outputId": "267d0648-2ba1-49f4-e2ac-2b4745304e2d"
      },
      "source": [
        "lis_3 = [1,2,3,4,1000]\r\n",
        "print(lis_3.pop())\r\n",
        "print(lis_3)"
      ],
      "execution_count": null,
      "outputs": [
        {
          "output_type": "stream",
          "text": [
            "1000\n",
            "[1, 2, 3, 4]\n"
          ],
          "name": "stdout"
        }
      ]
    },
    {
      "cell_type": "code",
      "metadata": {
        "colab": {
          "base_uri": "https://localhost:8080/"
        },
        "id": "OZDbcK4BxDSY",
        "outputId": "8ca26743-6a02-493d-cca0-5f7f2c0fdc16"
      },
      "source": [
        "x = [10,20,30,40]\r\n",
        "x.remove(20)\r\n",
        "x.reverse()\r\n",
        "x.pop()\r\n",
        "print(x)"
      ],
      "execution_count": null,
      "outputs": [
        {
          "output_type": "stream",
          "text": [
            "[40, 30]\n"
          ],
          "name": "stdout"
        }
      ]
    },
    {
      "cell_type": "code",
      "metadata": {
        "colab": {
          "base_uri": "https://localhost:8080/"
        },
        "id": "JWuZOhmhf0EX",
        "outputId": "4ac1393f-443f-4682-e921-181c9426f8e7"
      },
      "source": [
        "from emoji import emojize\r\n",
        "\r\n",
        "print(emojize(\":grinning_face_with_big_eyes:\")) \r\n",
        "print(emojize(\":winking_face_with_tongue:\")) \r\n",
        "print(emojize(\":zipper-mouth_face:\")) \r\n"
      ],
      "execution_count": 19,
      "outputs": [
        {
          "output_type": "stream",
          "text": [
            "😃\n",
            "😜\n",
            "🤐\n"
          ],
          "name": "stdout"
        }
      ]
    },
    {
      "cell_type": "code",
      "metadata": {
        "colab": {
          "base_uri": "https://localhost:8080/"
        },
        "id": "ygq4Z-c7h5J4",
        "outputId": "c7e66fd8-f4ce-4501-9811-d798b94cb7b7"
      },
      "source": [
        "x = dict(name = \"Alice\", age = 32 , sal = 40000)\r\n",
        "print(x)"
      ],
      "execution_count": 7,
      "outputs": [
        {
          "output_type": "stream",
          "text": [
            "{'name': 'Alice', 'age': 32, 'sal': 40000}\n"
          ],
          "name": "stdout"
        }
      ]
    },
    {
      "cell_type": "code",
      "metadata": {
        "colab": {
          "base_uri": "https://localhost:8080/"
        },
        "id": "OhS1lLt8jOOJ",
        "outputId": "819ce10b-abda-4fd1-be51-b735c5721c45"
      },
      "source": [
        "x['Mobile_no'] = 9984747474\r\n",
        "print(len(x))\r\n",
        "print(x)"
      ],
      "execution_count": 5,
      "outputs": [
        {
          "output_type": "stream",
          "text": [
            "4\n",
            "{'name': 'Alice ', 'age': 32, 'sal': 40000, 'Mobile_no': 9984747474}\n"
          ],
          "name": "stdout"
        }
      ]
    },
    {
      "cell_type": "code",
      "metadata": {
        "colab": {
          "base_uri": "https://localhost:8080/"
        },
        "id": "G9NB0_dLm22T",
        "outputId": "84bf491c-68cd-4bfb-ef67-3b3c3a5b9da1"
      },
      "source": [
        "#accessing keys \r\n",
        "print(x.keys())\r\n",
        "print(x.values())\r\n",
        "print(x.items())\r\n",
        "print('Alice' in x)"
      ],
      "execution_count": 8,
      "outputs": [
        {
          "output_type": "stream",
          "text": [
            "dict_keys(['name', 'age', 'sal'])\n",
            "dict_values(['Alice', 32, 40000])\n",
            "dict_items([('name', 'Alice'), ('age', 32), ('sal', 40000)])\n",
            "False\n"
          ],
          "name": "stdout"
        }
      ]
    },
    {
      "cell_type": "code",
      "metadata": {
        "colab": {
          "base_uri": "https://localhost:8080/"
        },
        "id": "LPoZYwervEG0",
        "outputId": "44d9989f-be39-48ea-c16f-bd7fb34f19e8"
      },
      "source": [
        "for k,v in x.items():\r\n",
        "  print(k,v)"
      ],
      "execution_count": 10,
      "outputs": [
        {
          "output_type": "stream",
          "text": [
            "name Alice\n",
            "age 32\n",
            "sal 40000\n"
          ],
          "name": "stdout"
        }
      ]
    },
    {
      "cell_type": "code",
      "metadata": {
        "colab": {
          "base_uri": "https://localhost:8080/"
        },
        "id": "Iz6HiNjckvUp",
        "outputId": "a6e41a59-44f1-4eef-eb3f-04618c3dc0ce"
      },
      "source": [
        "for key in x:\r\n",
        "  print(key,x[key])"
      ],
      "execution_count": 14,
      "outputs": [
        {
          "output_type": "stream",
          "text": [
            "name Alice\n",
            "age 32\n",
            "sal 40000\n"
          ],
          "name": "stdout"
        }
      ]
    },
    {
      "cell_type": "code",
      "metadata": {
        "colab": {
          "base_uri": "https://localhost:8080/"
        },
        "id": "AbHB74h5lM9s",
        "outputId": "4f3c379f-832e-466d-f9d7-09334b73811a"
      },
      "source": [
        "under_10 = (x**2 for x in range(10))\r\n",
        "print(\"Under_10\",list(under_10))"
      ],
      "execution_count": 20,
      "outputs": [
        {
          "output_type": "stream",
          "text": [
            "Under_10 [0, 1, 4, 9, 16, 25, 36, 49, 64, 81]\n"
          ],
          "name": "stdout"
        }
      ]
    },
    {
      "cell_type": "code",
      "metadata": {
        "colab": {
          "base_uri": "https://localhost:8080/"
        },
        "id": "MGEI7s9-odUZ",
        "outputId": "41615fa6-a9dd-46bc-d7de-391c7724a11b"
      },
      "source": [
        "my_list = list()\r\n",
        "my_list.append(4)\r\n",
        "my_list.append(8)\r\n",
        "my_list.append(12)\r\n",
        "my_list.append(16)\r\n",
        "my_list.append(24)\r\n",
        "print(my_list)\r\n"
      ],
      "execution_count": 21,
      "outputs": [
        {
          "output_type": "stream",
          "text": [
            "[4, 8, 12, 16, 24]\n"
          ],
          "name": "stdout"
        }
      ]
    },
    {
      "cell_type": "code",
      "metadata": {
        "colab": {
          "base_uri": "https://localhost:8080/"
        },
        "id": "SOIhY0yptCn_",
        "outputId": "c26c8eb0-b232-47ff-e1d6-f9464b7fb7da"
      },
      "source": [
        "print(my_list.pop())\r\n",
        "print(my_list.pop())\r\n",
        "print(my_list)"
      ],
      "execution_count": 24,
      "outputs": [
        {
          "output_type": "stream",
          "text": [
            "12\n",
            "8\n",
            "[4]\n"
          ],
          "name": "stdout"
        }
      ]
    },
    {
      "cell_type": "code",
      "metadata": {
        "colab": {
          "base_uri": "https://localhost:8080/"
        },
        "id": "IQQqnRG9v1fR",
        "outputId": "9f676d16-1af4-4e6f-b0ef-51a3d3a73b22"
      },
      "source": [
        "class stack:\r\n",
        "  def __init__(self):\r\n",
        "    self.stack = list()\r\n",
        "  def push(self,items):\r\n",
        "    self.stack.append(items)\r\n",
        "  def pop(self):\r\n",
        "    if len(self.stack) > 0:\r\n",
        "      return self.stack.pop()\r\n",
        "    else:\r\n",
        "      return none\r\n",
        "  def peek(self):\r\n",
        "    if len(self.stack) > 0:\r\n",
        "      return self.stack[len(self.stack) - 1]\r\n",
        "    else:\r\n",
        "      return none\r\n",
        "  def __str__(self):\r\n",
        "    return str(self.stack)\r\n",
        "\r\n",
        "my_stack= stack()\r\n",
        "my_stack.push(2)\r\n",
        "my_stack.push(4)\r\n",
        "my_stack.push(8)\r\n",
        "my_stack.push(16)\r\n",
        "my_stack.push(32)\r\n",
        "print(my_stack)\r\n",
        "print(my_stack.pop())\r\n",
        "print(my_stack)\r\n",
        "print(my_stack.peek())\r\n",
        "\r\n",
        "\r\n"
      ],
      "execution_count": 35,
      "outputs": [
        {
          "output_type": "stream",
          "text": [
            "[2, 4, 8, 16, 32]\n",
            "32\n",
            "[2, 4, 8, 16]\n",
            "16\n"
          ],
          "name": "stdout"
        }
      ]
    },
    {
      "cell_type": "code",
      "metadata": {
        "id": "n9CweK-G4Ucg"
      },
      "source": [
        "  "
      ],
      "execution_count": null,
      "outputs": []
    }
  ]
}